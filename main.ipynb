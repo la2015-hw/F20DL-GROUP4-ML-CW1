{
 "cells": [
  {
   "cell_type": "code",
   "execution_count": 13,
   "id": "dbc34959",
   "metadata": {},
   "outputs": [],
   "source": [
    "# Data manipulation\n",
    "import pandas as pd\n",
    "import numpy as np\n",
    "\n",
    "# Preprocessing\n",
    "from sklearn.model_selection import train_test_split\n",
    "from sklearn.preprocessing import StandardScaler, OneHotEncoder\n",
    "from sklearn.compose import ColumnTransformer\n",
    "from sklearn.pipeline import Pipeline\n",
    "\n",
    "# Models\n",
    "from sklearn.ensemble import GradientBoostingRegressor\n",
    "from sklearn.metrics import mean_squared_error, r2_score, mean_absolute_error\n",
    "\n",
    "# Visualization\n",
    "import matplotlib.pyplot as plt\n",
    "import seaborn as sns"
   ]
  },
  {
   "cell_type": "code",
   "execution_count": 14,
   "id": "57ff3955",
   "metadata": {},
   "outputs": [],
   "source": [
    "# Replace path\n",
    "df = pd.read_csv('C:/Users/hafee/Downloads/crop_yield.csv')\n",
    "\n",
    "# Overview\n",
    "# print(df.head())\n",
    "# print(df.info())\n",
    "# print(df.describe())\n",
    "\n",
    "# Check missing values\n",
    "# print(df.isnull().sum())\n",
    "\n"
   ]
  },
  {
   "cell_type": "code",
   "execution_count": 15,
   "id": "87be7a1f",
   "metadata": {},
   "outputs": [],
   "source": [
    "# Target\n",
    "y = df['Yield_tons_per_hectare']\n",
    "\n",
    "# Features\n",
    "X = df.drop(columns=['Yield_tons_per_hectare'])"
   ]
  },
  {
   "cell_type": "code",
   "execution_count": 16,
   "id": "4ebb9db6",
   "metadata": {},
   "outputs": [],
   "source": [
    "# Categorical & Numerical Columns\n",
    "categorical_features = ['Region', 'Soil_Type', 'Crop', 'Fertilizer_Used', 'Irrigation_Used', 'Weather_Condition']\n",
    "numerical_features = ['Rainfall_mm', 'Temperature_Celsius', 'Days_to_Harvest']"
   ]
  },
  {
   "cell_type": "code",
   "execution_count": 18,
   "id": "20523bbf",
   "metadata": {},
   "outputs": [
    {
     "ename": "TypeError",
     "evalue": "OneHotEncoder.__init__() got an unexpected keyword argument 'sparse'",
     "output_type": "error",
     "traceback": [
      "\u001b[31m---------------------------------------------------------------------------\u001b[39m",
      "\u001b[31mTypeError\u001b[39m                                 Traceback (most recent call last)",
      "\u001b[36mCell\u001b[39m\u001b[36m \u001b[39m\u001b[32mIn[18]\u001b[39m\u001b[32m, line 6\u001b[39m\n\u001b[32m      3\u001b[39m numeric_transformer = StandardScaler()\n\u001b[32m      5\u001b[39m \u001b[38;5;66;03m# Categorical features: one-hot encode\u001b[39;00m\n\u001b[32m----> \u001b[39m\u001b[32m6\u001b[39m categorical_transformer = \u001b[43mOneHotEncoder\u001b[49m\u001b[43m(\u001b[49m\u001b[43mdrop\u001b[49m\u001b[43m=\u001b[49m\u001b[33;43m'\u001b[39;49m\u001b[33;43mfirst\u001b[39;49m\u001b[33;43m'\u001b[39;49m\u001b[43m,\u001b[49m\u001b[43m \u001b[49m\u001b[43msparse\u001b[49m\u001b[43m=\u001b[49m\u001b[38;5;28;43;01mFalse\u001b[39;49;00m\u001b[43m)\u001b[49m\n\u001b[32m      8\u001b[39m \u001b[38;5;66;03m# Combine both using ColumnTransformer\u001b[39;00m\n\u001b[32m      9\u001b[39m preprocessor = ColumnTransformer(\n\u001b[32m     10\u001b[39m     transformers=[\n\u001b[32m     11\u001b[39m         (\u001b[33m'\u001b[39m\u001b[33mnum\u001b[39m\u001b[33m'\u001b[39m, numeric_transformer, numerical_features),\n\u001b[32m     12\u001b[39m         (\u001b[33m'\u001b[39m\u001b[33mcat\u001b[39m\u001b[33m'\u001b[39m, categorical_transformer, categorical_features)\n\u001b[32m     13\u001b[39m     ])\n",
      "\u001b[31mTypeError\u001b[39m: OneHotEncoder.__init__() got an unexpected keyword argument 'sparse'"
     ]
    }
   ],
   "source": [
    "# Preprocessing\n",
    "# Numerical features: scale\n",
    "numeric_transformer = StandardScaler()\n",
    "\n",
    "# Categorical features: one-hot encode\n",
    "categorical_transformer = OneHotEncoder(drop='first', sparse=False)\n",
    "\n",
    "# Combine both using ColumnTransformer\n",
    "preprocessor = ColumnTransformer(\n",
    "    transformers=[\n",
    "        ('num', numeric_transformer, numerical_features),\n",
    "        ('cat', categorical_transformer, categorical_features)\n",
    "    ])"
   ]
  },
  {
   "cell_type": "code",
   "execution_count": null,
   "id": "4b706d96",
   "metadata": {},
   "outputs": [],
   "source": [
    "# Split data into train and test\n",
    "X_train, X_test, y_train, y_test = train_test_split(\n",
    "    X, y, test_size=0.2, random_state=42\n",
    ")"
   ]
  },
  {
   "cell_type": "code",
   "execution_count": null,
   "id": "6330c76e",
   "metadata": {},
   "outputs": [],
   "source": [
    "# Build model\n",
    "model = Pipeline(steps=[\n",
    "    ('preprocessor', preprocessor),\n",
    "    ('regressor', GradientBoostingRegressor(\n",
    "        n_estimators=500,\n",
    "        learning_rate=0.05,\n",
    "        max_depth=5,\n",
    "        random_state=42\n",
    "    ))\n",
    "])\n",
    "\n",
    "#Train model\n",
    "model.fit(X_train, y_train)\n"
   ]
  },
  {
   "cell_type": "code",
   "execution_count": null,
   "id": "2e45e194",
   "metadata": {},
   "outputs": [],
   "source": [
    "# Evaluate and PLot\n",
    "\n",
    "y_pred = model.predict(X_test)\n",
    "\n",
    "mse = mean_squared_error(y_test, y_pred)\n",
    "print(f'MSE: {mse:.2f}')\n",
    "\n",
    "plt.figure(figsize=(8,6))\n",
    "sns.scatterplot(x=y_test, y=y_pred, alpha=0.3)\n",
    "plt.xlabel('Actual Yield (tons/ha)')\n",
    "plt.ylabel('Predicted Yield (tons/ha)')\n",
    "plt.title('Actual vs Predicted Crop Yield')\n",
    "plt.plot([y_test.min(), y_test.max()], [y_test.min(), y_test.max()], 'r--')\n",
    "plt.show()"
   ]
  }
 ],
 "metadata": {
  "kernelspec": {
   "display_name": "Python 3",
   "language": "python",
   "name": "python3"
  },
  "language_info": {
   "codemirror_mode": {
    "name": "ipython",
    "version": 3
   },
   "file_extension": ".py",
   "mimetype": "text/x-python",
   "name": "python",
   "nbconvert_exporter": "python",
   "pygments_lexer": "ipython3",
   "version": "3.13.7"
  }
 },
 "nbformat": 4,
 "nbformat_minor": 5
}
